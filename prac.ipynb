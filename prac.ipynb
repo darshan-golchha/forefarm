{
 "cells": [
  {
   "cell_type": "code",
   "execution_count": 35,
   "metadata": {},
   "outputs": [
    {
     "name": "stderr",
     "output_type": "stream",
     "text": [
      "/var/folders/f3/rbsn08md2csgshqkwfk85w040000gn/T/ipykernel_28263/2973285160.py:13: UserWarning: Geometry is in a geographic CRS. Results from 'area' are likely incorrect. Use 'GeoSeries.to_crs()' to re-project geometries to a projected CRS before this operation.\n",
      "\n",
      "  farm_area = polygon_gdf.geometry.area.sum()\n",
      "/var/folders/f3/rbsn08md2csgshqkwfk85w040000gn/T/ipykernel_28263/2973285160.py:16: DeprecationWarning: The 'unary_union' attribute is deprecated, use the 'union_all()' method instead.\n",
      "  intersecting_counties = counties_gdf[counties_gdf.geometry.intersects(polygon_gdf.unary_union)]\n",
      "/var/folders/f3/rbsn08md2csgshqkwfk85w040000gn/T/ipykernel_28263/2973285160.py:20: DeprecationWarning: The 'unary_union' attribute is deprecated, use the 'union_all()' method instead.\n",
      "  polygon_gdf.unary_union\n",
      "/var/folders/f3/rbsn08md2csgshqkwfk85w040000gn/T/ipykernel_28263/2973285160.py:21: UserWarning: Geometry is in a geographic CRS. Results from 'area' are likely incorrect. Use 'GeoSeries.to_crs()' to re-project geometries to a projected CRS before this operation.\n",
      "\n",
      "  ).area\n",
      "/Users/darshan/Documents/Projects/forefarm/farm/lib/python3.10/site-packages/geopandas/geodataframe.py:1819: SettingWithCopyWarning: \n",
      "A value is trying to be set on a copy of a slice from a DataFrame.\n",
      "Try using .loc[row_indexer,col_indexer] = value instead\n",
      "\n",
      "See the caveats in the documentation: https://pandas.pydata.org/pandas-docs/stable/user_guide/indexing.html#returning-a-view-versus-a-copy\n",
      "  super().__setitem__(key, value)\n",
      "/Users/darshan/Documents/Projects/forefarm/farm/lib/python3.10/site-packages/geopandas/geodataframe.py:1819: SettingWithCopyWarning: \n",
      "A value is trying to be set on a copy of a slice from a DataFrame.\n",
      "Try using .loc[row_indexer,col_indexer] = value instead\n",
      "\n",
      "See the caveats in the documentation: https://pandas.pydata.org/pandas-docs/stable/user_guide/indexing.html#returning-a-view-versus-a-copy\n",
      "  super().__setitem__(key, value)\n"
     ]
    },
    {
     "data": {
      "text/html": [
       "<div>\n",
       "<style scoped>\n",
       "    .dataframe tbody tr th:only-of-type {\n",
       "        vertical-align: middle;\n",
       "    }\n",
       "\n",
       "    .dataframe tbody tr th {\n",
       "        vertical-align: top;\n",
       "    }\n",
       "\n",
       "    .dataframe thead th {\n",
       "        text-align: right;\n",
       "    }\n",
       "</style>\n",
       "<table border=\"1\" class=\"dataframe\">\n",
       "  <thead>\n",
       "    <tr style=\"text-align: right;\">\n",
       "      <th></th>\n",
       "      <th>OBJECTID</th>\n",
       "      <th>DNR_REGION_NAME</th>\n",
       "      <th>DNR_CNTY_CODE</th>\n",
       "      <th>COUNTY_NAME</th>\n",
       "      <th>COUNTY_FIPS_CODE</th>\n",
       "      <th>SHAPEAREA</th>\n",
       "      <th>SHAPELEN</th>\n",
       "      <th>geometry</th>\n",
       "      <th>intersection_area</th>\n",
       "      <th>percentage_of_farm</th>\n",
       "    </tr>\n",
       "  </thead>\n",
       "  <tbody>\n",
       "    <tr>\n",
       "      <th>11</th>\n",
       "      <td>972</td>\n",
       "      <td>South Central Region</td>\n",
       "      <td>13</td>\n",
       "      <td>Dane</td>\n",
       "      <td>25</td>\n",
       "      <td>3.204610e+09</td>\n",
       "      <td>231224.530044</td>\n",
       "      <td>POLYGON ((-89.36309 43.28132, -89.36312 43.294...</td>\n",
       "      <td>0.000347</td>\n",
       "      <td>29.552033</td>\n",
       "    </tr>\n",
       "    <tr>\n",
       "      <th>16</th>\n",
       "      <td>977</td>\n",
       "      <td>South Central Region</td>\n",
       "      <td>14</td>\n",
       "      <td>Dodge</td>\n",
       "      <td>27</td>\n",
       "      <td>2.348412e+09</td>\n",
       "      <td>195437.668076</td>\n",
       "      <td>POLYGON ((-88.40097 43.61644, -88.40114 43.630...</td>\n",
       "      <td>0.000511</td>\n",
       "      <td>43.576725</td>\n",
       "    </tr>\n",
       "    <tr>\n",
       "      <th>18</th>\n",
       "      <td>979</td>\n",
       "      <td>South Central Region</td>\n",
       "      <td>11</td>\n",
       "      <td>Columbia</td>\n",
       "      <td>21</td>\n",
       "      <td>2.060374e+09</td>\n",
       "      <td>222534.705663</td>\n",
       "      <td>POLYGON ((-89.12693 43.64276, -89.12692 43.643...</td>\n",
       "      <td>0.000315</td>\n",
       "      <td>26.871242</td>\n",
       "    </tr>\n",
       "  </tbody>\n",
       "</table>\n",
       "</div>"
      ],
      "text/plain": [
       "    OBJECTID       DNR_REGION_NAME  DNR_CNTY_CODE COUNTY_NAME  \\\n",
       "11       972  South Central Region             13        Dane   \n",
       "16       977  South Central Region             14       Dodge   \n",
       "18       979  South Central Region             11    Columbia   \n",
       "\n",
       "   COUNTY_FIPS_CODE     SHAPEAREA       SHAPELEN  \\\n",
       "11               25  3.204610e+09  231224.530044   \n",
       "16               27  2.348412e+09  195437.668076   \n",
       "18               21  2.060374e+09  222534.705663   \n",
       "\n",
       "                                             geometry  intersection_area  \\\n",
       "11  POLYGON ((-89.36309 43.28132, -89.36312 43.294...           0.000347   \n",
       "16  POLYGON ((-88.40097 43.61644, -88.40114 43.630...           0.000511   \n",
       "18  POLYGON ((-89.12693 43.64276, -89.12692 43.643...           0.000315   \n",
       "\n",
       "    percentage_of_farm  \n",
       "11           29.552033  \n",
       "16           43.576725  \n",
       "18           26.871242  "
      ]
     },
     "execution_count": 35,
     "metadata": {},
     "output_type": "execute_result"
    }
   ],
   "source": [
    "import geopandas as gpd\n",
    "\n",
    "# Load the polygon GeoJSON\n",
    "polygon_gdf = gpd.read_file(\"polygon.geojson\")\n",
    "\n",
    "# Load the county boundaries (replace 'counties.geojson' with your actual data file)\n",
    "counties_gdf = gpd.read_file(\"counties2.geojson\")\n",
    "\n",
    "# Ensure the CRS (Coordinate Reference System) matches\n",
    "polygon_gdf = polygon_gdf.to_crs(counties_gdf.crs)\n",
    "\n",
    "# Calculate the total area of the farm (polygon)\n",
    "farm_area = polygon_gdf.geometry.area.sum()\n",
    "\n",
    "# Perform spatial join to find counties that intersect with the polygon\n",
    "intersecting_counties = counties_gdf[counties_gdf.geometry.intersects(polygon_gdf.unary_union)]\n",
    "\n",
    "# Calculate the intersection area for each county\n",
    "intersecting_counties[\"intersection_area\"] = intersecting_counties.geometry.intersection(\n",
    "    polygon_gdf.unary_union\n",
    ").area\n",
    "\n",
    "# Calculate the percentage of the farm area covered by each county\n",
    "intersecting_counties[\"percentage_of_farm\"] = (\n",
    "    intersecting_counties[\"intersection_area\"] / farm_area * 100\n",
    ")\n",
    "\n",
    "# Display results\n",
    "intersecting_counties"
   ]
  },
  {
   "cell_type": "code",
   "execution_count": 37,
   "metadata": {},
   "outputs": [],
   "source": [
    "def get_countyinfo(geojson):\n",
    "    polygon_gdf = gpd.read_file(geojson)\n",
    "    counties_gdf = gpd.read_file(\"counties2.geojson\")\n",
    "    polygon_gdf = polygon_gdf.to_crs(counties_gdf.crs)\n",
    "    farm_area = polygon_gdf.geometry.area.sum()\n",
    "    intersecting_counties = counties_gdf[counties_gdf.geometry.intersects(polygon_gdf.unary_union)]\n",
    "    intersecting_counties[\"intersection_area\"] = intersecting_counties.geometry.intersection(\n",
    "        polygon_gdf.unary_union\n",
    "    ).area\n",
    "    intersecting_counties[\"percentage_of_farm\"] = (\n",
    "        intersecting_counties[\"intersection_area\"] / farm_area * 100\n",
    "    )\n",
    "    return intersecting_counties[[\"COUNTY_NAME\", \"percentage_of_farm\"]].to_dict(orient=\"records\")"
   ]
  },
  {
   "cell_type": "code",
   "execution_count": null,
   "metadata": {},
   "outputs": [
    {
     "data": {
      "text/plain": [
       "[{'COUNTY_NAME': 'Dane', 'percentage_of_farm': 29.5520332347441},\n",
       " {'COUNTY_NAME': 'Dodge', 'percentage_of_farm': 43.57672461782967},\n",
       " {'COUNTY_NAME': 'Columbia', 'percentage_of_farm': 26.871242147426543}]"
      ]
     },
     "execution_count": 38,
     "metadata": {},
     "output_type": "execute_result"
    }
   ],
   "source": [
    "# rename county column from COUNTY_NAME to county\n",
    "intersecting_counties.rename(columns={\"COUNTY_NAME\": \"county\"}, inplace=True)\n",
    "intersecting_counties[[\"COUNTY_NAME\", \"percentage_of_farm\"]].to_dict(orient=\"records\")"
   ]
  },
  {
   "cell_type": "code",
   "execution_count": null,
   "metadata": {},
   "outputs": [],
   "source": []
  }
 ],
 "metadata": {
  "kernelspec": {
   "display_name": "farm",
   "language": "python",
   "name": "python3"
  },
  "language_info": {
   "codemirror_mode": {
    "name": "ipython",
    "version": 3
   },
   "file_extension": ".py",
   "mimetype": "text/x-python",
   "name": "python",
   "nbconvert_exporter": "python",
   "pygments_lexer": "ipython3",
   "version": "3.10.7"
  }
 },
 "nbformat": 4,
 "nbformat_minor": 2
}
